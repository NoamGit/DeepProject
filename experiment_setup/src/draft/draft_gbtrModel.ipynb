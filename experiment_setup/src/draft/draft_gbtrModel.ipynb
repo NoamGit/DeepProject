{
 "cells": [
  {
   "cell_type": "code",
   "execution_count": null,
   "metadata": {
    "collapsed": true
   },
   "outputs": [],
   "source": [
    "from Experiment import *\n",
    "from readers.conll_reader import *\n",
    "\n",
    "path, pc_name = ProjectSettings.getPath()\n",
    "experiment_settings = {\n",
    "    'candidate_iterator': CoNLLIterator(path+'/data/CoNLL/CoNLL_AIDA-YAGO2-dataset.tsv',split='all'),\n",
    "    'embedd_size': 'dim300',\n",
    "    'candidator_type': 'ppr',\n",
    "    'config_file': 'basic_model.config',\n",
    "    'paramDB': {'user':'noambox', 'pass':'ncTech#1', 'name':'wiki20151002'},\n",
    "    'model_type': 'gbtr'\n",
    "    }\n",
    "my_experiment = Experiment(ex_settings=experiment_settings)\n",
    "\n",
    "# loading all stuff\n",
    "my_experiment.prepareForTraining()"
   ]
  },
  {
   "cell_type": "code",
   "execution_count": null,
   "metadata": {},
   "outputs": [],
   "source": [
    "# Training section\n",
    "\n",
    "my_experiment.trainTheModel(epochs=5, neg_sample=1, save_flag = True)"
   ]
  },
  {
   "cell_type": "code",
   "execution_count": null,
   "metadata": {},
   "outputs": [],
   "source": [
    "# Predicting"
   ]
  }
 ],
 "metadata": {
  "kernelspec": {
   "display_name": "Python 2",
   "language": "python",
   "name": "python2"
  },
  "language_info": {
   "codemirror_mode": {
    "name": "ipython",
    "version": 2.0
   },
   "file_extension": ".py",
   "mimetype": "text/x-python",
   "name": "python",
   "nbconvert_exporter": "python",
   "pygments_lexer": "ipython2",
   "version": "2.7.6"
  }
 },
 "nbformat": 4,
 "nbformat_minor": 0
}